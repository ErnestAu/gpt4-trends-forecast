{
 "cells": [
  {
   "cell_type": "code",
   "execution_count": 119,
   "metadata": {},
   "outputs": [
    {
     "name": "stderr",
     "output_type": "stream",
     "text": [
      "01:03:30 - cmdstanpy - INFO - Chain [1] start processing\n",
      "01:03:30 - cmdstanpy - INFO - Chain [1] done processing\n",
      "01:03:31 - cmdstanpy - INFO - Chain [1] start processing\n",
      "01:03:31 - cmdstanpy - INFO - Chain [1] done processing\n"
     ]
    },
    {
     "data": {
      "text/plain": [
       "'Keyword number 1:nfl |Actual data starting date|2019-02-17|Actual data from Google Trends|6,8,9,14,8,7,6,6,10,36,10,4,4,4,4,4,4,4,4,3,4,5,6,11,16,15,20,20,31,58,49,46,43,46,46,39,43,45,48,43,48,44,44,53,50,73,71,68,37,11,23,6,7,8,7,6,14,8,7,8,9,45,10,8,6,5,5,4,4,4,4,5,5,6,6,7,5,5,6,7,11,30,47,41,42,41,35,37,34,38,31,35,42,35,40,39,56,43,52,65,52,34,11,22,7,6,6,6,10,7,7,8,7,8,34,8,6,5,4,4,4,4,4,3,4,4,5,5,9,12,15,18,18,27,43,42,41,43,44,40,39,42,39,41,48,37,40,46,70,51,47,64,79,64,45,14,21,6,7,8,12,11,8,7,7,8,28,9,7,4,4,4,4,4,4,4,4,4,6,7,10,13,16,17,16,26,48,46,44,44,47,39,38,41,36,41,44,35,36,43,55,46,57,66,88,58,43,13,23,6,8,9,10,7,7,6,7,8,32,8,7,4,4,4,4,4,4,4,4,5,6,6,9,15,16,17,17,28,49,44,47,45,42,42,42,42,41,43,56,39,38,50,56,69,57,74,100,68,45,14|Forecasted data starting date|2024-02-04|Forecasted data generated using the Prophet model|13,9,10,13,14,12,9,9,13,19,22,19,13,8,6,7,8,8,7,7,7,8,9,10,12,15,16,17,22,30,41,49,51,49,45,43,44,45,45,44,45,46,47,48,51,57,66,72,72,62,46,29|Upper confidence interval|22,17,18,22,23,20,18,17,22,28,31,27,22,16,14,15,17,16,15,15,16,16,17,19,21,23,25,26,31,39,50,58,60,57,53,52,53,53,53,52,53,55,56,57,60,66,74,81,81,71,55,37|Lower confidence interval|5,0,2,5,6,4,0,0,4,11,13,11,4,-1,-3,-2,0,0,-1,-2,-1,-1,0,2,4,6,8,9,13,21,33,41,43,40,36,35,35,36,36,36,36,37,38,40,42,49,57,64,63,54,37,21|Keyword number 2:nba |Actual data starting date|2019-02-17|Actual data from Google Trends|32,36,37,32,31,34,29,36,63,59,62,70,69,54,48,68,79,35,19,32,18,14,10,9,9,9,9,7,10,10,9,8,11,19,16,35,44,39,41,41,40,36,36,38,40,38,36,34,40,53,42,39,32,32,38,41,11,10,10,12,10,11,11,11,12,13,10,10,9,8,8,10,9,10,15,27,36,43,63,57,65,70,55,49,43,45,26,9,8,7,9,26,13,10,13,21,37,42,40,40,39,34,39,38,38,39,38,31,34,38,36,35,36,38,35,39,42,57,79,73,63,66,73,56,42,37,42,21,16,13,10,8,8,8,8,8,8,17,16,34,40,37,40,37,35,39,39,35,37,40,37,39,41,32,38,43,39,29,37,39,36,37,39,39,46,76,68,55,69,64,61,46,57,53,24,16,17,13,11,9,9,8,8,7,8,9,9,8,10,19,17,32,39,39,36,36,35,30,33,35,34,42,41,38,39,42,42,55,41,33,42,46,40,42,51,57,53,89,93,89,100,75,73,57,55,30,24,15,15,14,9,8,7,7,7,7,7,8,8,7,8,10,17,17,36,46,41,46,42,37,38,35,40,45,41,40,38,40,37,41|Forecasted data starting date|2024-02-04|Forecasted data generated using the Prophet model|43,41,41,41,40,38,36,38,44,53,59,60,59,58,58,58,55,49,40,32,27,23,21,20,20,20,21,22,24,25,24,22,21,22,25,29,33,37,40,40,39,36,35,36,40,44,45,44,43,44,46,46|Upper confidence interval|62,61,60,60,61,57,56,57,64,72,78,81,79,78,77,78,75,69,60,52,46,43,41,40,40,40,40,43,44,44,43,42,42,42,43,48,52,56,62,60,59,58,56,56,60,63,65,63,63,64,65,66|Lower confidence interval|23,23,20,20,19,18,16,18,24,34,38,40,39,38,38,38,35,27,20,12,7,2,1,1,0,-1,2,4,4,5,2,2,3,1,5,9,14,19,19,19,18,16,16,16,20,25,26,23,24,24,25,26|'"
      ]
     },
     "execution_count": 119,
     "metadata": {},
     "output_type": "execute_result"
    }
   ],
   "source": [
    "import streamlit as st\n",
    "from pytrends.request import TrendReq\n",
    "from prophet import Prophet\n",
    "import pandas as pd\n",
    "import plotly.graph_objects as go\n",
    "\n",
    "country_list = [\n",
    "    (\"Worldwide\", \"\"),\n",
    "    (\"United States\", \"US\"),\n",
    "    (\"United Kingdom\", \"GB\"),\n",
    "    (\"India\", \"IN\"),\n",
    "    (\"Canada\", \"CA\")\n",
    "]\n",
    "\n",
    "today = pd.Timestamp.now().strftime(\"%Y-%m-%d\")\n",
    "\n",
    "def fit_and_forecast(df):\n",
    "    m = Prophet()\n",
    "    m.fit(df[['ds', 'y']])\n",
    "    future = m.make_future_dataframe(periods=365)\n",
    "    forecast = m.predict(future)\n",
    "    return forecast\n",
    "\n",
    "def plot_trend(fig, df, forecast, keyword, color):\n",
    "    # Actual \n",
    "    fig.add_trace(go.Scatter(\n",
    "        x=df['ds'][df['ds'] <= today],\n",
    "        y=df['y'][df['ds'] <= today],\n",
    "        mode='lines',\n",
    "        name=f'Actual for {keyword}',\n",
    "        line=dict(color=color['Actual']),\n",
    "        hovertemplate='Date: %{x}<br>Value: %{y}'\n",
    "    ))\n",
    "\n",
    "    # Forecast\n",
    "    fig.add_trace(go.Scatter(\n",
    "        x=forecast['ds'][forecast['ds'] > today],\n",
    "        y=forecast['yhat'][forecast['ds'] > today],\n",
    "        mode='lines',\n",
    "        name=f'Forecast for {keyword}',\n",
    "        line=dict(color=color['Forecast']),\n",
    "        hovertemplate='Date: %{x}<br>Value: %{y}'\n",
    "    ))\n",
    "\n",
    "    # Confidence interval\n",
    "    fig.add_trace(go.Scatter(\n",
    "        x=forecast['ds'][forecast['ds'] > today],\n",
    "        y=forecast['yhat_upper'][forecast['ds'] > today],\n",
    "        mode='lines',\n",
    "        line=dict(width=0),\n",
    "        showlegend=False,\n",
    "        fillcolor=color['ConfidenceInterval'],\n",
    "        fill='tonexty',\n",
    "        hoverinfo='skip'\n",
    "    ))\n",
    "\n",
    "    fig.add_trace(go.Scatter(\n",
    "        x=forecast['ds'][forecast['ds'] > today],\n",
    "        y=forecast['yhat_lower'][forecast['ds'] > today],\n",
    "        mode='lines',\n",
    "        line=dict(width=0),\n",
    "        showlegend=False,\n",
    "        fillcolor=color['ConfidenceInterval'],\n",
    "        fill='tonexty',\n",
    "        hoverinfo='skip'\n",
    "    ))\n",
    "    \n",
    "    return fig\n",
    "\n",
    "# Initialize color dictionary for graph\n",
    "color_dict = {\n",
    "    'Keyword1': {'Actual': '#2E86C1', 'Forecast': '#5DADE2', 'ConfidenceInterval': 'rgba(93, 173, 226, 0.3)'},\n",
    "    'Keyword2': {'Actual': '#BFC9CA', 'Forecast': '#D5DBDB', 'ConfidenceInterval': 'rgba(213, 219, 219, 0.3)'},\n",
    "    'Keyword3': {'Actual': '#58D68D', 'Forecast': '#7DCEA0', 'ConfidenceInterval': 'rgba(125, 206, 160, 0.3)'}\n",
    "}\n",
    "\n",
    "\n",
    "\n",
    "col1, col2 = st.columns(2)\n",
    "\n",
    "# Number of keywords selector\n",
    "with col1:\n",
    "    num_keywords = st.selectbox(\"Number of Keywords\", [1, 2, 3], format_func=lambda x: f\"{x} Keyword{'s' if x > 1 else ''}\")\n",
    "\n",
    "# Country selector \n",
    "with col2:\n",
    "    selected_country, selected_country_code = st.selectbox(\"Country\", country_list, format_func=lambda x: x[0])\n",
    "\n",
    "# Keywords\n",
    "keyword1 = st.text_input(\"Enter first keyword\", \"\")\n",
    "keyword2, keyword3 = \"\", \"\"\n",
    "if num_keywords >= 2:\n",
    "    keyword2 = st.text_input(\"Enter second keyword\", \"\")\n",
    "if num_keywords == 3:\n",
    "    keyword3 = st.text_input(\"Enter third keyword\", \"\")\n",
    "\n",
    "# Initialize a text string to hold the data\n",
    "text_data = \"\"\n",
    "\n",
    "# Button\n",
    "if st.button(\"Check Popularity\"):\n",
    "    pytrends = TrendReq(hl='en-US', tz=360)\n",
    "    keywords = [keyword1]\n",
    "    if keyword2:\n",
    "        keywords.append(keyword2)\n",
    "    if keyword3:\n",
    "        keywords.append(keyword3)\n",
    "    \n",
    "    pytrends.build_payload(keywords, cat=0, timeframe='today 5-y', geo=selected_country_code, gprop='')\n",
    "    data = pytrends.interest_over_time()\n",
    "\n",
    "    fig = go.Figure()\n",
    "\n",
    "    for i, keyword in enumerate(keywords):\n",
    "        color = color_dict[f'Keyword{i+1}']\n",
    "        df = data.reset_index().rename(columns={'date': 'ds', keyword: 'y'})\n",
    "        forecast = fit_and_forecast(df)\n",
    "\n",
    "        # Add to text_data with rounding to the nearest whole number and sampling every 2nd point\n",
    "        text_data += f\"Keyword number {i+1}|{keyword}|\"\n",
    "        text_data += \"|Actual data from Google Trends|\" + ','.join(map(lambda x: str(round(x)), df['y'][df['ds'] <= pd.Timestamp.now().strftime(\"%Y-%m-%d\")][::2].tolist()))\n",
    "        text_data += \"|Forecasted data using the Prophet model|\" + ','.join(map(lambda x: str(round(x)), forecast['yhat'][forecast['ds'] > pd.Timestamp.now().strftime(\"%Y-%m-%d\")][::2].tolist()))\n",
    "        text_data += \"|Upper Confidence Interval|\" + ','.join(map(lambda x: str(round(x)), forecast['yhat_upper'][forecast['ds'] > pd.Timestamp.now().strftime(\"%Y-%m-%d\")][::2].tolist()))\n",
    "        text_data += \"|Lower Confidence Interval|\" + ','.join(map(lambda x: str(round(x)), forecast['yhat_lower'][forecast['ds'] > pd.Timestamp.now().strftime(\"%Y-%m-%d\")][::2].tolist()))\n",
    "        text_data += \"|\"\n",
    "\n",
    "        fig = plot_trend(fig, df, forecast, keyword, color)\n",
    "\n",
    "keywords = [\"nfl\"]\n",
    "keyword = \"nfl\"\n",
    "\n",
    "pytrends = TrendReq(hl='en-US', tz=360)\n",
    "pytrends.build_payload(keywords, cat=0, timeframe='today 5-y', geo=selected_country_code, gprop='')\n",
    "data = pytrends.interest_over_time()\n",
    "\n",
    "df = data.reset_index().rename(columns={'date': 'ds', keyword: 'y'})\n",
    "forecast = fit_and_forecast(df)\n",
    "\n",
    "# Add to text_data with rounding to the nearest whole number and sampling every 2nd point\n",
    "text_data += f\"Keyword number 1:{keywords[0]} \"\n",
    "text_data += \"|Actual data starting date|\" + df['ds'].iloc[0].strftime(\"%Y-%m-%d\")\n",
    "text_data += \"|Actual data from Google Trends|\" + ','.join(map(lambda x: str(round(x)), df['y'].tolist()))\n",
    "text_data += \"|Forecasted data starting date|\" + forecast['ds'][forecast['ds'] >= relevant_date.strftime(\"%Y-%m-%d\")].iloc[0].strftime(\"%Y-%m-%d\")\n",
    "text_data += \"|Forecasted data generated using the Prophet model|\" + ','.join(map(lambda x: str(round(x)), forecast['yhat'][forecast['ds'] >= relevant_date.strftime(\"%Y-%m-%d\")][7::7].tolist()))\n",
    "text_data += \"|Upper confidence interval|\" + ','.join(map(lambda x: str(round(x)), forecast['yhat_upper'][forecast['ds'] >= relevant_date.strftime(\"%Y-%m-%d\")][7::7].tolist()))\n",
    "text_data += \"|Lower confidence interval|\" + ','.join(map(lambda x: str(round(x)), forecast['yhat_lower'][forecast['ds'] >= relevant_date.strftime(\"%Y-%m-%d\")][7::7].tolist()))\n",
    "text_data += \"|\"\n",
    "\n",
    "keywords2 = [\"nba\"]\n",
    "keyword2 = \"nba\"\n",
    "\n",
    "pytrends = TrendReq(hl='en-US', tz=360)\n",
    "pytrends.build_payload(keywords2, cat=0, timeframe='today 5-y', geo=selected_country_code, gprop='')\n",
    "data = pytrends.interest_over_time()\n",
    "\n",
    "\n",
    "df = data.reset_index().rename(columns={'date': 'ds', keyword2: 'y'})\n",
    "forecast = fit_and_forecast(df)\n",
    "\n",
    "\n",
    "# Find the latest date from df\n",
    "relevant_date = df.iloc[-1]['ds'] \n",
    "\n",
    "text_data += f\"Keyword number 2:{keywords2[0]} \"\n",
    "text_data += \"|Actual data starting date|\" + df['ds'].iloc[0].strftime(\"%Y-%m-%d\")\n",
    "text_data += \"|Actual data from Google Trends|\" + ','.join(map(lambda x: str(round(x)), df['y'].tolist()))\n",
    "text_data += \"|Forecasted data starting date|\" + forecast['ds'][forecast['ds'] >= relevant_date.strftime(\"%Y-%m-%d\")].iloc[0].strftime(\"%Y-%m-%d\")\n",
    "text_data += \"|Forecasted data generated using the Prophet model|\" + ','.join(map(lambda x: str(round(x)), forecast['yhat'][forecast['ds'] >= relevant_date.strftime(\"%Y-%m-%d\")][7::7].tolist()))\n",
    "text_data += \"|Upper confidence interval|\" + ','.join(map(lambda x: str(round(x)), forecast['yhat_upper'][forecast['ds'] >= relevant_date.strftime(\"%Y-%m-%d\")][7::7].tolist()))\n",
    "text_data += \"|Lower confidence interval|\" + ','.join(map(lambda x: str(round(x)), forecast['yhat_lower'][forecast['ds'] >= relevant_date.strftime(\"%Y-%m-%d\")][7::7].tolist()))\n",
    "text_data += \"|\"\n",
    "\n",
    "text_data\n"
   ]
  },
  {
   "cell_type": "code",
   "execution_count": 116,
   "metadata": {},
   "outputs": [
    {
     "data": {
      "text/plain": [
       "Timestamp('2024-02-04 00:00:00')"
      ]
     },
     "execution_count": 116,
     "metadata": {},
     "output_type": "execute_result"
    }
   ],
   "source": [
    "forecast['ds'][forecast['ds'] >= relevant_date.strftime(\"%Y-%m-%d\")].iloc[0]"
   ]
  },
  {
   "cell_type": "code",
   "execution_count": 117,
   "metadata": {},
   "outputs": [
    {
     "data": {
      "text/plain": [
       "Timestamp('2019-02-17 00:00:00')"
      ]
     },
     "execution_count": 117,
     "metadata": {},
     "output_type": "execute_result"
    }
   ],
   "source": [
    "df['ds'].iloc[0]"
   ]
  },
  {
   "cell_type": "code",
   "execution_count": null,
   "metadata": {},
   "outputs": [],
   "source": []
  }
 ],
 "metadata": {
  "kernelspec": {
   "display_name": "env",
   "language": "python",
   "name": "python3"
  },
  "language_info": {
   "codemirror_mode": {
    "name": "ipython",
    "version": 3
   },
   "file_extension": ".py",
   "mimetype": "text/x-python",
   "name": "python",
   "nbconvert_exporter": "python",
   "pygments_lexer": "ipython3",
   "version": "3.11.5"
  }
 },
 "nbformat": 4,
 "nbformat_minor": 2
}
